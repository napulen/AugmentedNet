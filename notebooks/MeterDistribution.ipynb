{
 "cells": [
  {
   "cell_type": "code",
   "execution_count": 1,
   "metadata": {},
   "outputs": [
    {
     "name": "stdout",
     "output_type": "stream",
     "text": [
      "/home/napulen/AugmentedNet\n"
     ]
    }
   ],
   "source": [
    "%cd ../"
   ]
  },
  {
   "cell_type": "code",
   "execution_count": 25,
   "metadata": {},
   "outputs": [],
   "source": [
    "from collections import Counter\n",
    "import matplotlib.pyplot as plt\n",
    "import re\n",
    "import seaborn as sns\n",
    "\n",
    "import pandas as pd\n",
    "\n",
    "from AugmentedNet.common import ANNOTATIONSCOREDUPLES"
   ]
  },
  {
   "cell_type": "code",
   "execution_count": 44,
   "metadata": {},
   "outputs": [
    {
     "name": "stdout",
     "output_type": "stream",
     "text": [
      "abc-op131-4 9/4\n",
      "abc-op135-4 3/2\n",
      "abc-op135-4 3/2\n",
      "tavern-mozart-k398-a 7/4\n",
      "tavern-mozart-k398-a 11/4\n",
      "tavern-mozart-k398-a 12/4\n",
      "tavern-mozart-k398-b 7/4\n",
      "tavern-mozart-k398-b 11/4\n",
      "tavern-mozart-k398-b 12/4\n",
      "tavern-mozart-k573-a 19/8\n",
      "tavern-mozart-k573-b 19/8\n",
      "tavern-mozart-k613-a 13/8\n",
      "tavern-mozart-k613-b 13/8\n",
      "wir-openscore-liedercorpus-mahler-kindertotenlieder-2-nun-seh-ich-wohl-warum-so-dunkle-flammen 3/2\n",
      "wir-openscore-liedercorpus-mahler-kindertotenlieder-4-oft-denk-ich-sie-sind-nur-ausgegangen 3/2\n",
      "wir-openscore-liedercorpus-mahler-kindertotenlieder-4-oft-denk-ich-sie-sind-nur-ausgegangen 3/2\n",
      "wir-openscore-liedercorpus-mahler-kindertotenlieder-4-oft-denk-ich-sie-sind-nur-ausgegangen 3/2\n",
      "wir-openscore-liedercorpus-mahler-kindertotenlieder-4-oft-denk-ich-sie-sind-nur-ausgegangen 3/2\n",
      "wir-openscore-liedercorpus-mahler-kindertotenlieder-4-oft-denk-ich-sie-sind-nur-ausgegangen 3/2\n",
      "wir-openscore-liedercorpus-mahler-kindertotenlieder-4-oft-denk-ich-sie-sind-nur-ausgegangen 3/2\n",
      "wir-openscore-liedercorpus-wolf-eichendorff-lieder-20-waldmadchen 4/16\n",
      "wir-variations-and-grounds-bach-b-minor-mass-bwv232-crucifixus 3/2\n",
      "wirwtc-bach-wtc-i-8 3/2\n",
      "wirwtc-bach-wtc-i-13 12/16\n",
      "677 time signatures\n"
     ]
    }
   ],
   "source": [
    "allts = []\n",
    "weirdones = [\"9/4\", \"3/2\", \"7/4\", \"11/4\", \"12/4\", \"19/8\", \"13/8\", \"4/16\", \"12/16\"]\n",
    "\n",
    "for nick, (a, s) in ANNOTATIONSCOREDUPLES.items():\n",
    "    with open(a) as fd:\n",
    "        rntxt = fd.read()\n",
    "    ts = re.findall(r\"Time [S|s]ignature: (\\d+/\\d+)\", rntxt)\n",
    "    for t in ts:\n",
    "        if t in weirdones:\n",
    "            print(nick, t)\n",
    "        allts.append(t) \n",
    "\n",
    "cnt = Counter(allts)\n",
    "print(f\"{sum(cnt.values())} time signatures\")"
   ]
  },
  {
   "cell_type": "code",
   "execution_count": 45,
   "metadata": {},
   "outputs": [
    {
     "data": {
      "text/plain": [
       "<AxesSubplot:>"
      ]
     },
     "execution_count": 45,
     "metadata": {},
     "output_type": "execute_result"
    },
    {
     "data": {
      "image/png": "[encoded data removed]",
      "text/plain": [
       "<Figure size 1440x360 with 1 Axes>"
      ]
     },
     "metadata": {
      "needs_background": "light"
     },
     "output_type": "display_data"
    }
   ],
   "source": [
    "plt.rcParams[\"figure.figsize\"] = (20, 5)\n",
    "sns.barplot(x=list(cnt.keys()), y=list(cnt.values()))"
   ]
  },
  {
   "cell_type": "code",
   "execution_count": null,
   "metadata": {},
   "outputs": [],
   "source": []
  }
 ],
 "metadata": {
  "kernelspec": {
   "display_name": "Python 3.8.10 ('.env': venv)",
   "language": "python",
   "name": "python3"
  },
  "language_info": {
   "codemirror_mode": {
    "name": "ipython",
    "version": 3
   },
   "file_extension": ".py",
   "mimetype": "text/x-python",
   "name": "python",
   "nbconvert_exporter": "python",
   "pygments_lexer": "ipython3",
   "version": "3.8.10"
  },
  "orig_nbformat": 4,
  "vscode": {
   "interpreter": {
    "hash": "a52a358eae3e51af662b02193f9bc7647da22fcd152427ee064e67420f0b729e"
   }
  }
 },
 "nbformat": 4,
 "nbformat_minor": 2
}
